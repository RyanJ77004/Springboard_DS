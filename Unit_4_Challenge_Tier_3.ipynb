{
  "nbformat": 4,
  "nbformat_minor": 0,
  "metadata": {
    "kernelspec": {
      "display_name": "Python 3",
      "language": "python",
      "name": "python3"
    },
    "language_info": {
      "codemirror_mode": {
        "name": "ipython",
        "version": 3
      },
      "file_extension": ".py",
      "mimetype": "text/x-python",
      "name": "python",
      "nbconvert_exporter": "python",
      "pygments_lexer": "ipython3",
      "version": "3.7.3"
    },
    "colab": {
      "name": "Unit 4 Challenge - Tier 3.ipynb",
      "provenance": [],
      "collapsed_sections": [],
      "include_colab_link": true
    }
  },
  "cells": [
    {
      "cell_type": "markdown",
      "metadata": {
        "id": "view-in-github",
        "colab_type": "text"
      },
      "source": [
        "<a href=\"https://colab.research.google.com/github/RyanJ77004/Springboard_DS/blob/main/Unit_4_Challenge_Tier_3.ipynb\" target=\"_parent\"><img src=\"https://colab.research.google.com/assets/colab-badge.svg\" alt=\"Open In Colab\"/></a>"
      ]
    },
    {
      "cell_type": "markdown",
      "metadata": {
        "id": "Tia3MP1SJpgj"
      },
      "source": [
        "# Springboard Data Science Career Track Unit 4 Challenge - Tier 3 Complete\n",
        "\n",
        "## Objectives\n",
        "Hey! Great job getting through those challenging DataCamp courses. You're learning a lot in a short span of time. \n",
        "\n",
        "In this notebook, you're going to apply the skills you've been learning, bridging the gap between the controlled environment of DataCamp and the *slightly* messier work that data scientists do with actual datasets!\n",
        "\n",
        "Here’s the mystery we’re going to solve: ***which boroughs of London have seen the greatest increase in housing prices, on average, over the last two decades?***\n",
        "\n",
        "\n",
        "A borough is just a fancy word for district. You may be familiar with the five boroughs of New York… well, there are 32 boroughs within Greater London [(here's some info for the curious)](https://en.wikipedia.org/wiki/London_boroughs). Some of them are more desirable areas to live in, and the data will reflect that with a greater rise in housing prices.\n",
        "\n",
        "***This is the Tier 3 notebook, which means it's not filled in at all: we'll just give you the skeleton of a project, the brief and the data. It's up to you to play around with it and see what you can find out! Good luck! If you struggle, feel free to look at easier tiers for help; but try to dip in and out of them, as the more independent work you do, the better it is for your learning!***\n",
        "\n",
        "This challenge will make use of only what you learned in the following DataCamp courses: \n",
        "- Prework courses (Introduction to Python for Data Science, Intermediate Python for Data Science)\n",
        "- Data Types for Data Science\n",
        "- Python Data Science Toolbox (Part One) \n",
        "- pandas Foundations\n",
        "- Manipulating DataFrames with pandas\n",
        "- Merging DataFrames with pandas\n",
        "\n",
        "Of the tools, techniques and concepts in the above DataCamp courses, this challenge should require the application of the following: \n",
        "- **pandas**\n",
        "    - **data ingestion and inspection** (pandas Foundations, Module One) \n",
        "    - **exploratory data analysis** (pandas Foundations, Module Two)\n",
        "    - **tidying and cleaning** (Manipulating DataFrames with pandas, Module Three) \n",
        "    - **transforming DataFrames** (Manipulating DataFrames with pandas, Module One)\n",
        "    - **subsetting DataFrames with lists** (Manipulating DataFrames with pandas, Module One) \n",
        "    - **filtering DataFrames** (Manipulating DataFrames with pandas, Module One) \n",
        "    - **grouping data** (Manipulating DataFrames with pandas, Module Four) \n",
        "    - **melting data** (Manipulating DataFrames with pandas, Module Three) \n",
        "    - **advanced indexing** (Manipulating DataFrames with pandas, Module Four) \n",
        "- **matplotlib** (Intermediate Python for Data Science, Module One)\n",
        "- **fundamental data types** (Data Types for Data Science, Module One) \n",
        "- **dictionaries** (Intermediate Python for Data Science, Module Two)\n",
        "- **handling dates and times** (Data Types for Data Science, Module Four)\n",
        "- **function definition** (Python Data Science Toolbox - Part One, Module One)\n",
        "- **default arguments, variable length, and scope** (Python Data Science Toolbox - Part One, Module Two) \n",
        "- **lambda functions and error handling** (Python Data Science Toolbox - Part One, Module Four) "
      ]
    },
    {
      "cell_type": "markdown",
      "metadata": {
        "id": "Ipgd2nV8Jpgl"
      },
      "source": [
        "## The Data Science Pipeline\n",
        "\n",
        "This is Tier Three, so we'll get you started. But after that, it's all in your hands! When you feel done with your investigations, look back over what you've accomplished, and prepare a quick presentation of your findings for the next mentor meeting. \n",
        "\n",
        "Data Science is magical. In this case study, you'll get to apply some complex machine learning algorithms. But as  [David Spiegelhalter](https://www.youtube.com/watch?v=oUs1uvsz0Ok) reminds us, there is no substitute for simply **taking a really, really good look at the data.** Sometimes, this is all we need to answer our question.\n",
        "\n",
        "Data Science projects generally adhere to the four stages of Data Science Pipeline:\n",
        "1. Sourcing and loading \n",
        "2. Cleaning, transforming, and visualizing \n",
        "3. Modeling \n",
        "4. Evaluating and concluding \n"
      ]
    },
    {
      "cell_type": "markdown",
      "metadata": {
        "id": "zswDqbefJpgm"
      },
      "source": [
        "### 1. Sourcing and Loading \n",
        "\n",
        "Any Data Science project kicks off by importing  ***pandas***. The documentation of this wonderful library can be found [here](https://pandas.pydata.org/). As you've seen, pandas is conveniently connected to the [Numpy](http://www.numpy.org/) and [Matplotlib](https://matplotlib.org/) libraries. \n",
        "\n",
        "***Hint:*** This part of the data science pipeline will test those skills you acquired in the pandas Foundations course, Module One. "
      ]
    },
    {
      "cell_type": "markdown",
      "metadata": {
        "id": "aEau5nEvJpgm"
      },
      "source": [
        "#### 1.1. Importing Libraries"
      ]
    },
    {
      "cell_type": "code",
      "metadata": {
        "id": "7Bt_Q_oPJpgn"
      },
      "source": [
        "# Let's import the pandas, numpy libraries as pd, and np respectively. \n",
        "import pandas as pd\n",
        "import numpy as np\n",
        "\n",
        "# Load the pyplot collection of functions from matplotlib, as plt \n",
        "from matplotlib import pyplot as plt"
      ],
      "execution_count": 3,
      "outputs": []
    },
    {
      "cell_type": "markdown",
      "metadata": {
        "id": "koUrawxsJpgq"
      },
      "source": [
        "#### 1.2.  Loading the data\n",
        "Your data comes from the [London Datastore](https://data.london.gov.uk/): a free, open-source data-sharing portal for London-oriented datasets. "
      ]
    },
    {
      "cell_type": "code",
      "metadata": {
        "id": "AiLiD4v3Jpgr"
      },
      "source": [
        "# First, make a variable called url_LondonHousePrices, and assign it the following link, enclosed in quotation-marks as a string:\n",
        "# https://data.london.gov.uk/download/uk-house-price-index/70ac0766-8902-4eb5-aab5-01951aaed773/UK%20House%20price%20index.xls\n",
        "\n",
        "url_LondonHousePrices = \"https://data.london.gov.uk/download/uk-house-price-index/70ac0766-8902-4eb5-aab5-01951aaed773/UK%20House%20price%20index.xls\"\n",
        "\n",
        "# The dataset we're interested in contains the Average prices of the houses, and is actually on a particular sheet of the Excel file. \n",
        "# As a result, we need to specify the sheet name in the read_excel() method.\n",
        "# Put this data into a variable called properties.  \n",
        "properties = pd.read_excel(url_LondonHousePrices, sheet_name='Average price', index_col= None)"
      ],
      "execution_count": 6,
      "outputs": []
    },
    {
      "cell_type": "markdown",
      "metadata": {
        "id": "POukEJXgJpgu"
      },
      "source": [
        "### 2. Cleaning, transforming, and visualizing\n",
        "This second stage is arguably the most important part of any Data Science project. The first thing to do is take a proper look at the data. Cleaning forms the majority of this stage, and can be done both before or after Transformation.\n",
        "\n",
        "The end goal of data cleaning is to have tidy data. When data is tidy: \n",
        "\n",
        "1. Each variable has a column.\n",
        "2. Each observation forms a row.\n",
        "\n",
        "Keep the end goal in mind as you move through this process, every step will take you closer. \n",
        "\n",
        "\n",
        "\n",
        "***Hint:*** This part of the data science pipeline should test those skills you acquired in: \n",
        "- Intermediate Python for data science, all modules.\n",
        "- pandas Foundations, all modules. \n",
        "- Manipulating DataFrames with pandas, all modules.\n",
        "- Data Types for Data Science, Module Four.\n",
        "- Python Data Science Toolbox - Part One, all modules"
      ]
    },
    {
      "cell_type": "markdown",
      "metadata": {
        "id": "Te0Q548tnzZa"
      },
      "source": [
        "**2.1. Exploring your data** \n",
        "\n",
        "Think about your pandas functions for checking out a dataframe. "
      ]
    },
    {
      "cell_type": "code",
      "metadata": {
        "id": "Rxirxw_qoAJa",
        "colab": {
          "base_uri": "https://localhost:8080/"
        },
        "outputId": "bf9f8499-9b95-4d5e-edc1-74a6a9dba831"
      },
      "source": [
        "properties.info\n",
        "print(properties.columns)\n",
        "print(properties.index)"
      ],
      "execution_count": 12,
      "outputs": [
        {
          "output_type": "stream",
          "text": [
            "Index(['Unnamed: 0', 'City of London', 'Barking & Dagenham', 'Barnet',\n",
            "       'Bexley', 'Brent', 'Bromley', 'Camden', 'Croydon', 'Ealing', 'Enfield',\n",
            "       'Greenwich', 'Hackney', 'Hammersmith & Fulham', 'Haringey', 'Harrow',\n",
            "       'Havering', 'Hillingdon', 'Hounslow', 'Islington',\n",
            "       'Kensington & Chelsea', 'Kingston upon Thames', 'Lambeth', 'Lewisham',\n",
            "       'Merton', 'Newham', 'Redbridge', 'Richmond upon Thames', 'Southwark',\n",
            "       'Sutton', 'Tower Hamlets', 'Waltham Forest', 'Wandsworth',\n",
            "       'Westminster', 'Unnamed: 34', 'Inner London', 'Outer London',\n",
            "       'Unnamed: 37', 'NORTH EAST', 'NORTH WEST', 'YORKS & THE HUMBER',\n",
            "       'EAST MIDLANDS', 'WEST MIDLANDS', 'EAST OF ENGLAND', 'LONDON',\n",
            "       'SOUTH EAST', 'SOUTH WEST', 'Unnamed: 47', 'England'],\n",
            "      dtype='object')\n",
            "RangeIndex(start=0, stop=318, step=1)\n"
          ],
          "name": "stdout"
        }
      ]
    },
    {
      "cell_type": "markdown",
      "metadata": {
        "id": "tE9Sqt9-oAta"
      },
      "source": [
        "**2.2. Cleaning the data**\n",
        "\n",
        "You might find you need to transpose your dataframe, check out what its row indexes are, and reset the index. You  also might find you need to assign the values of the first row to your column headings  . (Hint: recall the .columns feature of DataFrames, as well as the iloc[] method).\n",
        "\n",
        "Don't be afraid to use StackOverflow for help  with this."
      ]
    },
    {
      "cell_type": "code",
      "metadata": {
        "id": "cdAu1A3YoH_r",
        "colab": {
          "base_uri": "https://localhost:8080/",
          "height": 326
        },
        "outputId": "77cacdcb-593e-4620-9448-9770301eb29d"
      },
      "source": [
        "properties.transpose()\n",
        "properties.reset_index(inplace=True)\n",
        "properties.head"
      ],
      "execution_count": 13,
      "outputs": [
        {
          "output_type": "execute_result",
          "data": {
            "text/html": [
              "<div>\n",
              "<style scoped>\n",
              "    .dataframe tbody tr th:only-of-type {\n",
              "        vertical-align: middle;\n",
              "    }\n",
              "\n",
              "    .dataframe tbody tr th {\n",
              "        vertical-align: top;\n",
              "    }\n",
              "\n",
              "    .dataframe thead th {\n",
              "        text-align: right;\n",
              "    }\n",
              "</style>\n",
              "<table border=\"1\" class=\"dataframe\">\n",
              "  <thead>\n",
              "    <tr style=\"text-align: right;\">\n",
              "      <th></th>\n",
              "      <th>Unnamed: 0</th>\n",
              "      <th>City of London</th>\n",
              "      <th>Barking &amp; Dagenham</th>\n",
              "      <th>Barnet</th>\n",
              "      <th>Bexley</th>\n",
              "      <th>Brent</th>\n",
              "      <th>Bromley</th>\n",
              "      <th>Camden</th>\n",
              "      <th>Croydon</th>\n",
              "      <th>Ealing</th>\n",
              "      <th>Enfield</th>\n",
              "      <th>Greenwich</th>\n",
              "      <th>Hackney</th>\n",
              "      <th>Hammersmith &amp; Fulham</th>\n",
              "      <th>Haringey</th>\n",
              "      <th>Harrow</th>\n",
              "      <th>Havering</th>\n",
              "      <th>Hillingdon</th>\n",
              "      <th>Hounslow</th>\n",
              "      <th>Islington</th>\n",
              "      <th>Kensington &amp; Chelsea</th>\n",
              "      <th>Kingston upon Thames</th>\n",
              "      <th>Lambeth</th>\n",
              "      <th>Lewisham</th>\n",
              "      <th>Merton</th>\n",
              "      <th>Newham</th>\n",
              "      <th>Redbridge</th>\n",
              "      <th>Richmond upon Thames</th>\n",
              "      <th>Southwark</th>\n",
              "      <th>Sutton</th>\n",
              "      <th>Tower Hamlets</th>\n",
              "      <th>Waltham Forest</th>\n",
              "      <th>Wandsworth</th>\n",
              "      <th>Westminster</th>\n",
              "      <th>Unnamed: 34</th>\n",
              "      <th>Inner London</th>\n",
              "      <th>Outer London</th>\n",
              "      <th>Unnamed: 37</th>\n",
              "      <th>NORTH EAST</th>\n",
              "      <th>NORTH WEST</th>\n",
              "      <th>YORKS &amp; THE HUMBER</th>\n",
              "      <th>EAST MIDLANDS</th>\n",
              "      <th>WEST MIDLANDS</th>\n",
              "      <th>EAST OF ENGLAND</th>\n",
              "      <th>LONDON</th>\n",
              "      <th>SOUTH EAST</th>\n",
              "      <th>SOUTH WEST</th>\n",
              "      <th>Unnamed: 47</th>\n",
              "      <th>England</th>\n",
              "    </tr>\n",
              "  </thead>\n",
              "  <tbody>\n",
              "    <tr>\n",
              "      <th>0</th>\n",
              "      <td>NaT</td>\n",
              "      <td>E09000001</td>\n",
              "      <td>E09000002</td>\n",
              "      <td>E09000003</td>\n",
              "      <td>E09000004</td>\n",
              "      <td>E09000005</td>\n",
              "      <td>E09000006</td>\n",
              "      <td>E09000007</td>\n",
              "      <td>E09000008</td>\n",
              "      <td>E09000009</td>\n",
              "      <td>E09000010</td>\n",
              "      <td>E09000011</td>\n",
              "      <td>E09000012</td>\n",
              "      <td>E09000013</td>\n",
              "      <td>E09000014</td>\n",
              "      <td>E09000015</td>\n",
              "      <td>E09000016</td>\n",
              "      <td>E09000017</td>\n",
              "      <td>E09000018</td>\n",
              "      <td>E09000019</td>\n",
              "      <td>E09000020</td>\n",
              "      <td>E09000021</td>\n",
              "      <td>E09000022</td>\n",
              "      <td>E09000023</td>\n",
              "      <td>E09000024</td>\n",
              "      <td>E09000025</td>\n",
              "      <td>E09000026</td>\n",
              "      <td>E09000027</td>\n",
              "      <td>E09000028</td>\n",
              "      <td>E09000029</td>\n",
              "      <td>E09000030</td>\n",
              "      <td>E09000031</td>\n",
              "      <td>E09000032</td>\n",
              "      <td>E09000033</td>\n",
              "      <td>NaN</td>\n",
              "      <td>E13000001</td>\n",
              "      <td>E13000002</td>\n",
              "      <td>NaN</td>\n",
              "      <td>E12000001</td>\n",
              "      <td>E12000002</td>\n",
              "      <td>E12000003</td>\n",
              "      <td>E12000004</td>\n",
              "      <td>E12000005</td>\n",
              "      <td>E12000006</td>\n",
              "      <td>E12000007</td>\n",
              "      <td>E12000008</td>\n",
              "      <td>E12000009</td>\n",
              "      <td>NaN</td>\n",
              "      <td>E92000001</td>\n",
              "    </tr>\n",
              "    <tr>\n",
              "      <th>1</th>\n",
              "      <td>1995-01-01</td>\n",
              "      <td>91449</td>\n",
              "      <td>50460.2</td>\n",
              "      <td>93284.5</td>\n",
              "      <td>64958.1</td>\n",
              "      <td>71306.6</td>\n",
              "      <td>81671.5</td>\n",
              "      <td>120933</td>\n",
              "      <td>69158.2</td>\n",
              "      <td>79885.9</td>\n",
              "      <td>72514.7</td>\n",
              "      <td>62300.1</td>\n",
              "      <td>61296.5</td>\n",
              "      <td>124903</td>\n",
              "      <td>76287.6</td>\n",
              "      <td>84769.5</td>\n",
              "      <td>68000.1</td>\n",
              "      <td>73834.8</td>\n",
              "      <td>72231.7</td>\n",
              "      <td>92516.5</td>\n",
              "      <td>182695</td>\n",
              "      <td>80875.8</td>\n",
              "      <td>67771</td>\n",
              "      <td>60491.3</td>\n",
              "      <td>82070.6</td>\n",
              "      <td>53539.3</td>\n",
              "      <td>72189.6</td>\n",
              "      <td>109326</td>\n",
              "      <td>67885.2</td>\n",
              "      <td>71537</td>\n",
              "      <td>59865.2</td>\n",
              "      <td>61319.4</td>\n",
              "      <td>88559</td>\n",
              "      <td>133025</td>\n",
              "      <td>NaN</td>\n",
              "      <td>78252</td>\n",
              "      <td>72958.8</td>\n",
              "      <td>NaN</td>\n",
              "      <td>42076.4</td>\n",
              "      <td>43958.5</td>\n",
              "      <td>44803.4</td>\n",
              "      <td>45544.5</td>\n",
              "      <td>48527.5</td>\n",
              "      <td>56701.6</td>\n",
              "      <td>74435.8</td>\n",
              "      <td>64018.9</td>\n",
              "      <td>54705.2</td>\n",
              "      <td>NaN</td>\n",
              "      <td>53202.8</td>\n",
              "    </tr>\n",
              "    <tr>\n",
              "      <th>2</th>\n",
              "      <td>1995-02-01</td>\n",
              "      <td>82202.8</td>\n",
              "      <td>51085.8</td>\n",
              "      <td>93190.2</td>\n",
              "      <td>64787.9</td>\n",
              "      <td>72022.3</td>\n",
              "      <td>81657.6</td>\n",
              "      <td>119509</td>\n",
              "      <td>68951.1</td>\n",
              "      <td>80897.1</td>\n",
              "      <td>73155.2</td>\n",
              "      <td>60993.3</td>\n",
              "      <td>63187.1</td>\n",
              "      <td>122088</td>\n",
              "      <td>78901.2</td>\n",
              "      <td>83396.1</td>\n",
              "      <td>69393.5</td>\n",
              "      <td>75031.1</td>\n",
              "      <td>71051.6</td>\n",
              "      <td>94342.4</td>\n",
              "      <td>182345</td>\n",
              "      <td>81230.1</td>\n",
              "      <td>65381.5</td>\n",
              "      <td>60869.3</td>\n",
              "      <td>79982.7</td>\n",
              "      <td>53153.9</td>\n",
              "      <td>72141.6</td>\n",
              "      <td>111103</td>\n",
              "      <td>64799.1</td>\n",
              "      <td>70893.2</td>\n",
              "      <td>62318.5</td>\n",
              "      <td>60252.1</td>\n",
              "      <td>88641</td>\n",
              "      <td>131468</td>\n",
              "      <td>NaN</td>\n",
              "      <td>75885.7</td>\n",
              "      <td>72937.9</td>\n",
              "      <td>NaN</td>\n",
              "      <td>42572</td>\n",
              "      <td>43925.4</td>\n",
              "      <td>44528.8</td>\n",
              "      <td>46051.6</td>\n",
              "      <td>49341.3</td>\n",
              "      <td>56593.6</td>\n",
              "      <td>72777.9</td>\n",
              "      <td>63715</td>\n",
              "      <td>54356.1</td>\n",
              "      <td>NaN</td>\n",
              "      <td>53096.2</td>\n",
              "    </tr>\n",
              "    <tr>\n",
              "      <th>3</th>\n",
              "      <td>1995-03-01</td>\n",
              "      <td>79120.7</td>\n",
              "      <td>51269</td>\n",
              "      <td>92247.5</td>\n",
              "      <td>64367.5</td>\n",
              "      <td>72015.8</td>\n",
              "      <td>81449.3</td>\n",
              "      <td>120282</td>\n",
              "      <td>68712.4</td>\n",
              "      <td>81379.9</td>\n",
              "      <td>72190.4</td>\n",
              "      <td>61377.8</td>\n",
              "      <td>63593.3</td>\n",
              "      <td>120636</td>\n",
              "      <td>78521.9</td>\n",
              "      <td>83416.2</td>\n",
              "      <td>69368</td>\n",
              "      <td>74188.7</td>\n",
              "      <td>72098</td>\n",
              "      <td>93465.9</td>\n",
              "      <td>182879</td>\n",
              "      <td>81111.5</td>\n",
              "      <td>66336.5</td>\n",
              "      <td>60288</td>\n",
              "      <td>80661.7</td>\n",
              "      <td>53458.3</td>\n",
              "      <td>72501.4</td>\n",
              "      <td>107325</td>\n",
              "      <td>65763.3</td>\n",
              "      <td>70306.8</td>\n",
              "      <td>63938.7</td>\n",
              "      <td>60871.1</td>\n",
              "      <td>87124.8</td>\n",
              "      <td>132260</td>\n",
              "      <td>NaN</td>\n",
              "      <td>76591.6</td>\n",
              "      <td>72714.5</td>\n",
              "      <td>NaN</td>\n",
              "      <td>42369.7</td>\n",
              "      <td>44434.9</td>\n",
              "      <td>45200.5</td>\n",
              "      <td>45383.8</td>\n",
              "      <td>49442.2</td>\n",
              "      <td>56171.2</td>\n",
              "      <td>73896.8</td>\n",
              "      <td>64113.6</td>\n",
              "      <td>53583.1</td>\n",
              "      <td>NaN</td>\n",
              "      <td>53201.3</td>\n",
              "    </tr>\n",
              "    <tr>\n",
              "      <th>4</th>\n",
              "      <td>1995-04-01</td>\n",
              "      <td>77101.2</td>\n",
              "      <td>53133.5</td>\n",
              "      <td>90762.9</td>\n",
              "      <td>64277.7</td>\n",
              "      <td>72965.6</td>\n",
              "      <td>81124.4</td>\n",
              "      <td>120098</td>\n",
              "      <td>68610</td>\n",
              "      <td>82188.9</td>\n",
              "      <td>71442.9</td>\n",
              "      <td>61927.7</td>\n",
              "      <td>65139.6</td>\n",
              "      <td>121425</td>\n",
              "      <td>79545.6</td>\n",
              "      <td>83567.9</td>\n",
              "      <td>69444.3</td>\n",
              "      <td>73911.4</td>\n",
              "      <td>71890.3</td>\n",
              "      <td>93344.5</td>\n",
              "      <td>184177</td>\n",
              "      <td>81672.8</td>\n",
              "      <td>66388.8</td>\n",
              "      <td>59471</td>\n",
              "      <td>79990.5</td>\n",
              "      <td>54479.8</td>\n",
              "      <td>72228.6</td>\n",
              "      <td>106875</td>\n",
              "      <td>63073.6</td>\n",
              "      <td>69411.9</td>\n",
              "      <td>66233.2</td>\n",
              "      <td>60971.4</td>\n",
              "      <td>87026</td>\n",
              "      <td>133370</td>\n",
              "      <td>NaN</td>\n",
              "      <td>76851.6</td>\n",
              "      <td>72591.9</td>\n",
              "      <td>NaN</td>\n",
              "      <td>42095.8</td>\n",
              "      <td>44267.8</td>\n",
              "      <td>45614.3</td>\n",
              "      <td>46124.2</td>\n",
              "      <td>49455.9</td>\n",
              "      <td>56567.9</td>\n",
              "      <td>74455.3</td>\n",
              "      <td>64623.2</td>\n",
              "      <td>54786</td>\n",
              "      <td>NaN</td>\n",
              "      <td>53590.9</td>\n",
              "    </tr>\n",
              "  </tbody>\n",
              "</table>\n",
              "</div>"
            ],
            "text/plain": [
              "  Unnamed: 0 City of London  ... Unnamed: 47    England\n",
              "0        NaT      E09000001  ...         NaN  E92000001\n",
              "1 1995-01-01          91449  ...         NaN    53202.8\n",
              "2 1995-02-01        82202.8  ...         NaN    53096.2\n",
              "3 1995-03-01        79120.7  ...         NaN    53201.3\n",
              "4 1995-04-01        77101.2  ...         NaN    53590.9\n",
              "\n",
              "[5 rows x 49 columns]"
            ]
          },
          "metadata": {
            "tags": []
          },
          "execution_count": 13
        }
      ]
    },
    {
      "cell_type": "markdown",
      "metadata": {
        "id": "o1uLbJAsoIjK"
      },
      "source": [
        "**2.3. Cleaning the data (part 2)**\n",
        "\n",
        "You might we have to **rename** a couple columns. How do you do this? The clue's pretty bold..."
      ]
    },
    {
      "cell_type": "code",
      "metadata": {
        "id": "GKkmn1AnoVZS"
      },
      "source": [
        ""
      ],
      "execution_count": null,
      "outputs": []
    },
    {
      "cell_type": "markdown",
      "metadata": {
        "id": "jy8BzXHmoWEw"
      },
      "source": [
        "**2.4.Transforming the data**\n",
        "\n",
        "Remember what Wes McKinney said about tidy data? \n",
        "\n",
        "You might need to **melt** your DataFrame here. "
      ]
    },
    {
      "cell_type": "code",
      "metadata": {
        "id": "S2wM0qLuo2Zt"
      },
      "source": [
        ""
      ],
      "execution_count": null,
      "outputs": []
    },
    {
      "cell_type": "markdown",
      "metadata": {
        "id": "7kIsgAo7o3mf"
      },
      "source": [
        "Remember to make sure your column data types are all correct. Average prices, for example, should be floating point numbers... "
      ]
    },
    {
      "cell_type": "code",
      "metadata": {
        "id": "ZcR4IHbcpOaq"
      },
      "source": [
        ""
      ],
      "execution_count": null,
      "outputs": []
    },
    {
      "cell_type": "markdown",
      "metadata": {
        "id": "knLUXHLypOtw"
      },
      "source": [
        "**2.5. Cleaning the data (part 3)**\n",
        "\n",
        "Do we have an equal number of observations in the ID, Average Price, Month, and London Borough columns? Remember that there are only 32 London Boroughs. How many entries do you have in that column? \n",
        "\n",
        "Check out the contents of the London Borough column, and if you find null values, get rid of them however you see fit. "
      ]
    },
    {
      "cell_type": "code",
      "metadata": {
        "id": "BnvTW5a3p0fC"
      },
      "source": [
        ""
      ],
      "execution_count": null,
      "outputs": []
    },
    {
      "cell_type": "markdown",
      "metadata": {
        "id": "PGEx6mJsp6dG"
      },
      "source": [
        "**2.6. Visualizing the data**\n",
        "\n",
        "To visualize the data, why not subset on a particular London Borough? Maybe do a line plot of Month against Average Price?"
      ]
    },
    {
      "cell_type": "code",
      "metadata": {
        "id": "nAg5pT9cqHAR"
      },
      "source": [
        ""
      ],
      "execution_count": null,
      "outputs": []
    },
    {
      "cell_type": "markdown",
      "metadata": {
        "id": "aWTPqSJeqHnC"
      },
      "source": [
        "To limit the number of data points you have, you might want to extract the year from every month value your *Month* column. \n",
        "\n",
        "To this end, you *could* apply a ***lambda function***. Your logic could work as follows:\n",
        "1. look through the `Month` column\n",
        "2. extract the year from each individual value in that column \n",
        "3. store that corresponding year as separate column. \n",
        "\n",
        "Whether you go ahead with this is up to you. Just so long as you answer our initial brief: which boroughs of London have seen the greatest house price increase, on average, over the past two decades? "
      ]
    },
    {
      "cell_type": "code",
      "metadata": {
        "id": "e0DF92cyqnu8"
      },
      "source": [
        ""
      ],
      "execution_count": null,
      "outputs": []
    },
    {
      "cell_type": "markdown",
      "metadata": {
        "id": "2knuTxAEqoJ4"
      },
      "source": [
        "**3. Modeling**\n",
        "\n",
        "Consider creating a function that will calculate a ratio of house prices, comparing the price of a house in 2018 to the price in 1998.\n",
        "\n",
        "Consider calling this function create_price_ratio.\n",
        "\n",
        "You'd want this function to:\n",
        "1. Take a filter of dfg, specifically where this filter constrains the London_Borough, as an argument. For example, one admissible argument should be: dfg[dfg['London_Borough']=='Camden'].\n",
        "2. Get the Average Price for that Borough, for the years 1998 and 2018.\n",
        "4. Calculate the ratio of the Average Price for 1998 divided by the Average Price for 2018.\n",
        "5. Return that ratio.\n",
        "\n",
        "Once you've written this function, you ultimately want to use it to iterate through all the unique London_Boroughs and work out the ratio capturing the difference of house prices between 1998 and 2018.\n",
        "\n",
        "Bear in mind: you don't have to write a function like this if you don't want to. If you can solve the brief otherwise, then great! \n",
        "\n",
        "***Hint***: This section should test the skills you acquired in:\n",
        "- Python Data Science Toolbox - Part One, all modules"
      ]
    },
    {
      "cell_type": "code",
      "metadata": {
        "id": "cKTyr437UgDa"
      },
      "source": [
        ""
      ],
      "execution_count": null,
      "outputs": []
    },
    {
      "cell_type": "markdown",
      "metadata": {
        "id": "NzYUI7FxJpgv"
      },
      "source": [
        "### 4. Conclusion\n",
        "What can you conclude? Type out your conclusion below. \n",
        "\n",
        "Look back at your notebook. Think about how you might summarize what you have done, and prepare a quick presentation on it to your mentor at your next meeting. \n",
        "\n",
        "We hope you enjoyed this practical project. It should have consolidated your data hygiene and pandas skills by looking at a real-world problem involving just the kind of dataset you might encounter as a budding data scientist. Congratulations, and looking forward to seeing you at the next step in the course! "
      ]
    }
  ]
}